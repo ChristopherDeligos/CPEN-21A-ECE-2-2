{
  "nbformat": 4,
  "nbformat_minor": 0,
  "metadata": {
    "colab": {
      "name": "Final Exam.ipynb",
      "provenance": [],
      "authorship_tag": "ABX9TyPJMPgN/EDHhhwnI3ffVO5x",
      "include_colab_link": true
    },
    "kernelspec": {
      "name": "python3",
      "display_name": "Python 3"
    },
    "language_info": {
      "name": "python"
    }
  },
  "cells": [
    {
      "cell_type": "markdown",
      "metadata": {
        "id": "view-in-github",
        "colab_type": "text"
      },
      "source": [
        "<a href=\"https://colab.research.google.com/github/ChristopherDeligos/CPEN-21A-ECE-2-2/blob/main/Final_Exam.ipynb\" target=\"_parent\"><img src=\"https://colab.research.google.com/assets/colab-badge.svg\" alt=\"Open In Colab\"/></a>"
      ]
    },
    {
      "cell_type": "markdown",
      "source": [
        "##Final Exam"
      ],
      "metadata": {
        "id": "HQjewV17FxlG"
      }
    },
    {
      "cell_type": "markdown",
      "source": [
        "##PROBLEM STATEMENT 1"
      ],
      "metadata": {
        "id": "mnVIaxoUFyUS"
      }
    },
    {
      "cell_type": "code",
      "source": [
        "sum=0\n",
        "for k in range(-6,4):\n",
        " print(k)\n",
        " if k<5:\n",
        "  sum=sum+k\n",
        "print(\"The summation of those numbers that are less than 5 is:\",sum)"
      ],
      "metadata": {
        "colab": {
          "base_uri": "https://localhost:8080/"
        },
        "id": "Do32zHwlF5O4",
        "outputId": "3ecaa4ca-8330-484f-ea5e-0f6b5724e65d"
      },
      "execution_count": 1,
      "outputs": [
        {
          "output_type": "stream",
          "name": "stdout",
          "text": [
            "-6\n",
            "-5\n",
            "-4\n",
            "-3\n",
            "-2\n",
            "-1\n",
            "0\n",
            "1\n",
            "2\n",
            "3\n",
            "The summation of those numbers that are less than 5 is: -15\n"
          ]
        }
      ]
    },
    {
      "cell_type": "markdown",
      "source": [
        "##PROBLEM STATEMENT 2"
      ],
      "metadata": {
        "id": "9Q_eUX2JF-fx"
      }
    },
    {
      "cell_type": "code",
      "source": [
        "k = 1\n",
        "sum = 0\n",
        "print (\"Enter 5 numbers: \")\n",
        "while k <= 5:\n",
        " number = int(input (\"\"))\n",
        " if k==1 or k==5:\n",
        "  sum = sum + number\n",
        " k=k+1\n",
        "print(\"The sum of first and last number among 5 numbers is :\",sum)"
      ],
      "metadata": {
        "colab": {
          "base_uri": "https://localhost:8080/"
        },
        "id": "Xl_1QRLiGAmb",
        "outputId": "1f8ed644-0b8b-41d4-efca-82f68e9c555d"
      },
      "execution_count": 2,
      "outputs": [
        {
          "output_type": "stream",
          "name": "stdout",
          "text": [
            "Enter 5 numbers: \n",
            "5\n",
            "5\n",
            "5\n",
            "5\n",
            "5\n",
            "The sum of first and last number among 5 numbers is : 10\n"
          ]
        }
      ]
    },
    {
      "cell_type": "markdown",
      "source": [
        "##PROBLEM STATEMENT 3"
      ],
      "metadata": {
        "id": "GutygzhAGH2N"
      }
    },
    {
      "cell_type": "code",
      "source": [
        "grade = int(input(\"Enter your grade :\"))\n",
        "\n",
        "if grade >=90:\n",
        " print(\"A\")\n",
        "elif grade >=80:\n",
        " print(\"B\")\n",
        "elif grade >=70:\n",
        " print(\"C\")\n",
        "elif grade >=60:\n",
        " print(\"D\")\n",
        "else:\n",
        " print(\"F\")"
      ],
      "metadata": {
        "colab": {
          "base_uri": "https://localhost:8080/"
        },
        "id": "QwaccZNVGLYB",
        "outputId": "b2ec7b44-7e75-47a0-de3a-2675a374846b"
      },
      "execution_count": 3,
      "outputs": [
        {
          "output_type": "stream",
          "name": "stdout",
          "text": [
            "Enter your grade :94\n",
            "A\n"
          ]
        }
      ]
    }
  ]
}