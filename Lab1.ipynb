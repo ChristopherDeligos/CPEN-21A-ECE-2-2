{
  "nbformat": 4,
  "nbformat_minor": 0,
  "metadata": {
    "colab": {
      "name": "Lab1.ipynb",
      "provenance": [],
      "authorship_tag": "ABX9TyMhbOZzf9ftJnXRpNK55P8j",
      "include_colab_link": true
    },
    "kernelspec": {
      "name": "python3",
      "display_name": "Python 3"
    },
    "language_info": {
      "name": "python"
    }
  },
  "cells": [
    {
      "cell_type": "markdown",
      "metadata": {
        "id": "view-in-github",
        "colab_type": "text"
      },
      "source": [
        "<a href=\"https://colab.research.google.com/github/ChristopherDeligos/CPEN-21A-ECE-2-2/blob/main/Lab1.ipynb\" target=\"_parent\"><img src=\"https://colab.research.google.com/assets/colab-badge.svg\" alt=\"Open In Colab\"/></a>"
      ]
    },
    {
      "cell_type": "markdown",
      "metadata": {
        "id": "jB3nJ7duia7i"
      },
      "source": [
        "#Laboratory 1"
      ]
    },
    {
      "cell_type": "code",
      "metadata": {
        "colab": {
          "base_uri": "https://localhost:8080/"
        },
        "id": "Idu440a3iYBZ",
        "outputId": "87fbf632-12d3-4747-a421-aabf953d769a"
      },
      "source": [
        "print (\"Welcome to Phyton Programming\")"
      ],
      "execution_count": 1,
      "outputs": [
        {
          "output_type": "stream",
          "name": "stdout",
          "text": [
            "Welcome to Phyton Programming\n"
          ]
        }
      ]
    },
    {
      "cell_type": "code",
      "metadata": {
        "colab": {
          "base_uri": "https://localhost:8080/"
        },
        "id": "2wjt_F38imb0",
        "outputId": "accca13b-a561-4838-be8a-6970665a1a50"
      },
      "source": [
        "name = \"Christopher B. Deligos\"\n",
        "address = \"192 Josefa Street, Brgy. Bagbag 1, Rosario, Cavite\"\n",
        "age = \"19\"\n",
        "print(name)\n",
        "print(address)\n",
        "print(age)"
      ],
      "execution_count": 3,
      "outputs": [
        {
          "output_type": "stream",
          "name": "stdout",
          "text": [
            "Christopher B. Deligos\n",
            "192 Josefa Street, Brgy. Bagbag 1, Rosario, Cavite\n",
            "19\n"
          ]
        }
      ]
    }
  ]
}