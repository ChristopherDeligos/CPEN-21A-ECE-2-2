{
  "nbformat": 4,
  "nbformat_minor": 0,
  "metadata": {
    "colab": {
      "name": "Untitled2.ipynb",
      "provenance": [],
      "authorship_tag": "ABX9TyMNUN02O43UGz15Y+4UzB8r",
      "include_colab_link": true
    },
    "kernelspec": {
      "name": "python3",
      "display_name": "Python 3"
    },
    "language_info": {
      "name": "python"
    }
  },
  "cells": [
    {
      "cell_type": "markdown",
      "metadata": {
        "id": "view-in-github",
        "colab_type": "text"
      },
      "source": [
        "<a href=\"https://colab.research.google.com/github/ChristopherDeligos/CPEN-21A-ECE-2-2/blob/main/Untitled2.ipynb\" target=\"_parent\"><img src=\"https://colab.research.google.com/assets/colab-badge.svg\" alt=\"Open In Colab\"/></a>"
      ]
    },
    {
      "cell_type": "markdown",
      "metadata": {
        "id": "H6-jsqIl5n1A"
      },
      "source": [
        "#Review of Phyton"
      ]
    },
    {
      "cell_type": "code",
      "metadata": {
        "colab": {
          "base_uri": "https://localhost:8080/"
        },
        "id": "1rA_Ee2i5p5D",
        "outputId": "e878b206-fcc1-41b0-a30e-d7ce7fb1c78e"
      },
      "source": [
        "print (\"Hello, world\")"
      ],
      "execution_count": 2,
      "outputs": [
        {
          "output_type": "stream",
          "name": "stdout",
          "text": [
            "Hello, world\n"
          ]
        }
      ]
    },
    {
      "cell_type": "code",
      "metadata": {
        "colab": {
          "base_uri": "https://localhost:8080/"
        },
        "id": "pES6gQHI5s0o",
        "outputId": "c0496b7c-b2fa-4c09-db89-52908f100c2d"
      },
      "source": [
        "B = int(4)\n",
        "print (B)"
      ],
      "execution_count": 3,
      "outputs": [
        {
          "output_type": "stream",
          "name": "stdout",
          "text": [
            "4\n"
          ]
        }
      ]
    },
    {
      "cell_type": "code",
      "metadata": {
        "colab": {
          "base_uri": "https://localhost:8080/"
        },
        "id": "AwbP_faO5v21",
        "outputId": "b4b28955-f6ba-4fc6-8e05-17556cddef17"
      },
      "source": [
        "a, b, c = 1, 2, 3\n",
        "print (a)\n",
        "print (b)\n",
        "print (c)"
      ],
      "execution_count": 4,
      "outputs": [
        {
          "output_type": "stream",
          "name": "stdout",
          "text": [
            "1\n",
            "2\n",
            "3\n"
          ]
        }
      ]
    },
    {
      "cell_type": "code",
      "metadata": {
        "colab": {
          "base_uri": "https://localhost:8080/"
        },
        "id": "FFl69mu251xY",
        "outputId": "6702472d-dd78-47fc-8750-ebc8f523abcf"
      },
      "source": [
        "x = \"Phyton Programming is \"\n",
        "y = \"enjoying\"\n",
        "print (x+y)"
      ],
      "execution_count": 5,
      "outputs": [
        {
          "output_type": "stream",
          "name": "stdout",
          "text": [
            "Phyton Programming is enjoying\n"
          ]
        }
      ]
    },
    {
      "cell_type": "code",
      "metadata": {
        "colab": {
          "base_uri": "https://localhost:8080/"
        },
        "id": "TBF31HYN56KM",
        "outputId": "1311ec6f-fe70-44f5-bd79-3e5a0db71b0d"
      },
      "source": [
        "x = y = z = \"one\"\n",
        "print (x)\n",
        "print (y)\n",
        "print (z)"
      ],
      "execution_count": 6,
      "outputs": [
        {
          "output_type": "stream",
          "name": "stdout",
          "text": [
            "one\n",
            "one\n",
            "one\n"
          ]
        }
      ]
    },
    {
      "cell_type": "code",
      "metadata": {
        "colab": {
          "base_uri": "https://localhost:8080/"
        },
        "id": "YTUEU6Kh5-GV",
        "outputId": "75ea269a-5fcc-4df3-c9d6-39909417fdf2"
      },
      "source": [
        "x = 4\n",
        "y = 5\n",
        "sum = x + y\n",
        "print (sum)"
      ],
      "execution_count": 7,
      "outputs": [
        {
          "output_type": "stream",
          "name": "stdout",
          "text": [
            "9\n"
          ]
        }
      ]
    },
    {
      "cell_type": "code",
      "metadata": {
        "colab": {
          "base_uri": "https://localhost:8080/"
        },
        "id": "zQmwFq-75_9x",
        "outputId": "a64c6110-590c-4757-ffc4-a30804bf9e83"
      },
      "source": [
        "A = \"hanging bridge\"\n",
        "a = \"falling down\"\n",
        "print (A)"
      ],
      "execution_count": 10,
      "outputs": [
        {
          "output_type": "stream",
          "name": "stdout",
          "text": [
            "hanging bridge\n"
          ]
        }
      ]
    },
    {
      "cell_type": "code",
      "metadata": {
        "colab": {
          "base_uri": "https://localhost:8080/"
        },
        "id": "u45Nin2x6DwS",
        "outputId": "3d3beedb-1d68-49ed-8310-2bb8387d69da"
      },
      "source": [
        "x = 5\n",
        "y = 10\n",
        "x > y"
      ],
      "execution_count": 11,
      "outputs": [
        {
          "output_type": "execute_result",
          "data": {
            "text/plain": [
              "False"
            ]
          },
          "metadata": {},
          "execution_count": 11
        }
      ]
    }
  ]
}